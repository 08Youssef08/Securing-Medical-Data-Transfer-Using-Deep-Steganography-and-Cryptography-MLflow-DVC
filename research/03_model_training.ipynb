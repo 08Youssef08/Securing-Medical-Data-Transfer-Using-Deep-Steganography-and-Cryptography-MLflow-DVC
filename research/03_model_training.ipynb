{
 "cells": [
  {
   "cell_type": "code",
   "execution_count": 1,
   "metadata": {},
   "outputs": [],
   "source": [
    "import os"
   ]
  },
  {
   "cell_type": "code",
   "execution_count": 4,
   "metadata": {},
   "outputs": [
    {
     "data": {
      "text/plain": [
       "'c:\\\\Users\\\\08you\\\\Desktop\\\\My own 3 hour project\\\\Securing-Medical-Data-Transfer-Using-Deep-Steganography-and-Cryptography-MLflow-DVC'"
      ]
     },
     "execution_count": 4,
     "metadata": {},
     "output_type": "execute_result"
    }
   ],
   "source": [
    "%pwd"
   ]
  },
  {
   "cell_type": "code",
   "execution_count": 3,
   "metadata": {},
   "outputs": [],
   "source": [
    "os.chdir(\"../\")"
   ]
  },
  {
   "cell_type": "code",
   "execution_count": 5,
   "metadata": {},
   "outputs": [],
   "source": [
    "from dataclasses import dataclass\n",
    "from pathlib import Path\n",
    "\n",
    "\n",
    "@dataclass(frozen=True)\n",
    "class TrainingConfig:\n",
    "    root_dir: Path\n",
    "    Cover_train: Path\n",
    "    Med_train: Path\n",
    "    Cover_val:Path\n",
    "    Med_val:Path\n",
    "    trained_model_path: Path\n",
    "    base_model_path: Path\n",
    "    params_epochs: int\n",
    "    params_batch_size: int\n",
    "    params_is_augmentation: bool\n",
    "    params_image_size: list"
   ]
  },
  {
   "cell_type": "code",
   "execution_count": 6,
   "metadata": {},
   "outputs": [],
   "source": [
    "from cnnClassifier.constants import *\n",
    "from cnnClassifier.utils.common import read_yaml, create_directories\n",
    "import numpy as np\n",
    "import tensorflow as tf"
   ]
  },
  {
   "cell_type": "code",
   "execution_count": 23,
   "metadata": {},
   "outputs": [],
   "source": [
    "class ConfigurationManager:\n",
    "    def __init__(\n",
    "            self,\n",
    "            config_filepath= CONFIG_FILE_PATH,\n",
    "            params_filepath = PARAMS_FILE_PATH\n",
    "    ):\n",
    "        self.config = read_yaml(config_filepath)\n",
    "        self.params = read_yaml(params_filepath)\n",
    "\n",
    "        create_directories([self.config.artifacts_root])\n",
    "    def get_training_config(self) -> TrainingConfig:\n",
    "        training = self.config.training\n",
    "        prepare_base_model = self.config.prepare_base_model\n",
    "        params = self.params\n",
    "        Med_train = training.Med_train\n",
    "        Cover_train= training.Cover_train\n",
    "        Med_val=training.Med_val\n",
    "        Cover_val=training.Cover_val\n",
    "        create_directories([\n",
    "            Path(training.root_dir)\n",
    "        ])\n",
    "\n",
    "        training_config = TrainingConfig(\n",
    "            root_dir=Path(training.root_dir),\n",
    "            trained_model_path=Path(training.trained_model_path),\n",
    "            base_model_path=Path(prepare_base_model.base_model_path),\n",
    "            Med_train=Path(Med_train),\n",
    "            Cover_train= Path(Cover_train),\n",
    "            Med_val= Path(Med_val),\n",
    "            Cover_val= Path(Cover_val),\n",
    "            params_epochs=params.EPOCHS,\n",
    "            params_batch_size=params.BATCH_SIZE,\n",
    "            params_is_augmentation=params.AUGMENTATION,\n",
    "            params_image_size=params.IMAGE_SIZE\n",
    "        )\n",
    "\n",
    "        return training_config"
   ]
  },
  {
   "cell_type": "code",
   "execution_count": 24,
   "metadata": {},
   "outputs": [],
   "source": [
    "import os\n",
    "import urllib.request as request\n",
    "from zipfile import ZipFile\n",
    "import tensorflow as tf\n",
    "from src.cnnClassifier.utils.common import custom_loss_1,custom_loss_2\n",
    "import cv2\n",
    "import time\n",
    "import glob"
   ]
  },
  {
   "cell_type": "code",
   "execution_count": 27,
   "metadata": {},
   "outputs": [],
   "source": [
    "class Training:\n",
    "    def __init__(self, config: TrainingConfig):\n",
    "        self.config = config\n",
    "        self.TRAIN_NUM=len(glob.glob(str(config.Med_train)+\"/*/*\"))\n",
    "        self.VAL_NUM=len(glob.glob(str(config.Med_val)+\"/*/*\"))\n",
    "    def get_base_model(self):\n",
    "        self.model = tf.keras.models.load_model(\n",
    "            self.config.base_model_path,custom_objects={'custom_loss_2': custom_loss_2,'custom_loss_1': custom_loss_1}\n",
    "        )\n",
    "    \n",
    "    # Function to convert grayscale image to RGB\n",
    "    @staticmethod\n",
    "    def gray_to_rgb(image):\n",
    "        return cv2.cvtColor(image, cv2.COLOR_GRAY2RGB)\n",
    "    # Preprocessing functions\n",
    "    @staticmethod\n",
    "    def normalize_batch(imgs):\n",
    "        '''Performs channel-wise z-score normalization'''\n",
    "\n",
    "        return (imgs -  np.array([0.485, 0.456, 0.406])) /np.array([0.229, 0.224, 0.225])\n",
    "    @staticmethod\n",
    "    def denormalize_batch(imgs,should_clip=True):\n",
    "        '''Denormalize the images for prediction'''\n",
    "\n",
    "        imgs= (imgs * np.array([0.229, 0.224, 0.225])) + np.array([0.485, 0.456, 0.406])\n",
    "\n",
    "        if should_clip:\n",
    "            imgs= np.clip(imgs,0,1)\n",
    "        return imgs\n",
    "\n",
    "    # Custom generator for loading training images from directory\n",
    "    def generate_generator_multiple(self,generator, med_path, cover_path):\n",
    "        genX1 = generator.flow_from_directory(med_path, target_size=(224, 224), batch_size=self.config.params_batch_size, shuffle=True, class_mode=None)\n",
    "        genX2 = generator.flow_from_directory(cover_path, target_size=(224, 224), batch_size=self.config.params_batch_size, shuffle=True, class_mode=None)\n",
    "\n",
    "        while True:\n",
    "            X1i = self.normalize_batch(genX1.next())\n",
    "            X2i = self.normalize_batch(genX2.next())\n",
    "\n",
    "            # Check if the images are grayscale, and convert to RGB if necessary\n",
    "            if X1i.shape[-1] != 3:\n",
    "                X1i = self.gray_to_rgb(X1i)\n",
    "            if X2i.shape[-1] != 3:\n",
    "                X2i = self.gray_to_rgb(X2i)\n",
    "\n",
    "            yield ({'secret': X1i, 'cover': X2i}, {'hide_conv_f': X2i, 'revl_conv_f': X1i})\n",
    "\n",
    "    def train_valid_generator(self):\n",
    "\n",
    "        datagenerator_kwargs = dict(\n",
    "            rescale = 1./255\n",
    "        )\n",
    "\n",
    "        valid_datagenerator = tf.keras.preprocessing.image.ImageDataGenerator(\n",
    "            **datagenerator_kwargs\n",
    "        )\n",
    "\n",
    "        self.generate_generator_multiple(generator=valid_datagenerator, med_path=self.config.Med_val,cover_path=self.config.Cover_val)\n",
    "        #needs to be two just like stego requirement\n",
    "        if self.config.params_is_augmentation:\n",
    "            train_datagenerator = tf.keras.preprocessing.image.ImageDataGenerator(\n",
    "                rotation_range=40,\n",
    "                horizontal_flip=True,\n",
    "                width_shift_range=0.2,\n",
    "                height_shift_range=0.2,\n",
    "                shear_range=0.2,\n",
    "                zoom_range=0.2,\n",
    "                **datagenerator_kwargs\n",
    "            )\n",
    "        else:\n",
    "            train_datagenerator = valid_datagenerator\n",
    "\n",
    "        self.train_generator = self.generate_generator_multiple(generator=train_datagenerator, med_path=self.config.Med_train,cover_path=self.config.Cover_train)\n",
    "        self.validation_generator = self.generate_generator_multiple(generator=valid_datagenerator, med_path=self.config.Med_val,cover_path=self.config.Cover_val)\n",
    "    @staticmethod\n",
    "    def save_model(path: Path, model: tf.keras.Model):\n",
    "        model.save(path)\n",
    "    \n",
    "    def train(self):\n",
    "        self.steps_per_epoch = self.TRAIN_NUM// self.config.params_batch_size\n",
    "        self.validation_steps = self.VAL_NUM // self.config.params_batch_size\n",
    "\n",
    "        self.model.fit(\n",
    "            self.train_generator,\n",
    "            validation_data=self.validation_generator,\n",
    "            epochs=self.config.params_epochs,\n",
    "            steps_per_epoch=self.steps_per_epoch,\n",
    "            validation_steps=self.validation_steps,\n",
    "        )\n",
    "\n",
    "        self.save_model(\n",
    "            path=self.config.trained_model_path,\n",
    "            model=self.model\n",
    "        )\n",
    "    "
   ]
  },
  {
   "cell_type": "code",
   "execution_count": 28,
   "metadata": {},
   "outputs": [
    {
     "name": "stdout",
     "output_type": "stream",
     "text": [
      "[2024-02-11 14:53:11,705: INFO: common: yaml file: config\\config.yaml loaded successfully]\n",
      "[2024-02-11 14:53:11,709: INFO: common: yaml file: params.yaml loaded successfully]\n",
      "[2024-02-11 14:53:11,711: INFO: common: created directory at: artifacts]\n",
      "[2024-02-11 14:53:11,713: INFO: common: created directory at: artifacts\\data_ingestion\\Data-CS-DVC\\training_data]\n",
      "Found 100 images belonging to 1 classes.\n",
      "Found 100 images belonging to 1 classes.\n",
      "6/6 [==============================] - ETA: 0s - loss: 2.4359 - hide_conv_f_loss: 1.6092 - revl_conv_f_loss: 1.1023  Found 50 images belonging to 1 classes.\n",
      "Found 50 images belonging to 1 classes.\n",
      "6/6 [==============================] - 825s 137s/step - loss: 2.4359 - hide_conv_f_loss: 1.6092 - revl_conv_f_loss: 1.1023 - val_loss: 2.3664 - val_hide_conv_f_loss: 1.5116 - val_revl_conv_f_loss: 1.1397\n"
     ]
    }
   ],
   "source": [
    "try:\n",
    "    config = ConfigurationManager()\n",
    "    training_config = config.get_training_config()\n",
    "    training = Training(config=training_config)\n",
    "    training.get_base_model()\n",
    "    training.train_valid_generator()\n",
    "    training.train()\n",
    "    \n",
    "except Exception as e:\n",
    "    raise e"
   ]
  },
  {
   "cell_type": "code",
   "execution_count": null,
   "metadata": {},
   "outputs": [],
   "source": []
  }
 ],
 "metadata": {
  "kernelspec": {
   "display_name": "kidney",
   "language": "python",
   "name": "python3"
  },
  "language_info": {
   "codemirror_mode": {
    "name": "ipython",
    "version": 3
   },
   "file_extension": ".py",
   "mimetype": "text/x-python",
   "name": "python",
   "nbconvert_exporter": "python",
   "pygments_lexer": "ipython3",
   "version": "3.8.18"
  }
 },
 "nbformat": 4,
 "nbformat_minor": 2
}
