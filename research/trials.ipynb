{
 "cells": [
  {
   "cell_type": "code",
   "execution_count": 1,
   "metadata": {},
   "outputs": [],
   "source": [
    "from flask import Flask, flash, request, redirect, url_for,render_template\n",
    "from flask import send_file\n",
    "\n",
    "import os\n",
    "from flask_cors import CORS, cross_origin\n",
    "from cnnClassifier.utils.common import decodeImage\n",
    "from cnnClassifier.pipeline.hide_prediction import HidePredictionPipeline\n",
    "from cnnClassifier.pipeline.reveal_prediction import RevealPredictionPipeline\n",
    "from PIL import Image\n",
    "import numpy as np\n",
    "UPLOAD_FOLDER = 'static'\n",
    "ALLOWED_EXTENSIONS = {'txt', 'pdf', 'png', 'jpg', 'jpeg', 'gif'}\n",
    "os.putenv('LANG', 'en_US.UTF-8')\n",
    "os.putenv('LC_ALL', 'en_US.UTF-8')\n",
    "def allowed_file(filename):\n",
    "    return '.' in filename and \\\n",
    "           filename.rsplit('.', 1)[1].lower() in ALLOWED_EXTENSIONS\n",
    "app = Flask(__name__)\n",
    "CORS(app)\n",
    "\n",
    "class ClientApp:\n",
    "    def __init__(self):\n",
    "        self.secret = \"static\\images\\secret.jpg\"\n",
    "        self.cover = \"static\\images\\cover.jpg\"\n",
    "        self.coverout = \"static\\images\\Coverout.jpg\"\n",
    "        self.toreveal = r\"static\\images\\toreveal.jpg\"\n",
    "        self.secretout = r\"static\\images\\secretout.jpg\"\n",
    "        self.hideclassifier = HidePredictionPipeline(self.secret, self.cover)\n",
    "        self.revealclassifier = RevealPredictionPipeline()\n",
    "\n",
    "clApp = ClientApp()"
   ]
  },
  {
   "cell_type": "code",
   "execution_count": 6,
   "metadata": {},
   "outputs": [
    {
     "data": {
      "text/plain": [
       "'c:\\\\Users\\\\08you\\\\Desktop\\\\My own 3 hour project\\\\Securing-Medical-Data-Transfer-Using-Deep-Steganography-and-Cryptography-MLflow-DVC'"
      ]
     },
     "execution_count": 6,
     "metadata": {},
     "output_type": "execute_result"
    }
   ],
   "source": [
    "%pwd"
   ]
  },
  {
   "cell_type": "code",
   "execution_count": 5,
   "metadata": {},
   "outputs": [],
   "source": [
    "import os \n",
    "os.chdir(\"../\")\n",
    "os.chdir(\"../\")"
   ]
  },
  {
   "cell_type": "code",
   "execution_count": 7,
   "metadata": {},
   "outputs": [
    {
     "ename": "AttributeError",
     "evalue": "'JpegImageFile' object has no attribute 'shape'",
     "output_type": "error",
     "traceback": [
      "\u001b[1;31m---------------------------------------------------------------------------\u001b[0m",
      "\u001b[1;31mAttributeError\u001b[0m                            Traceback (most recent call last)",
      "Cell \u001b[1;32mIn[7], line 1\u001b[0m\n\u001b[1;32m----> 1\u001b[0m \u001b[43mclApp\u001b[49m\u001b[38;5;241;43m.\u001b[39;49m\u001b[43mrevealclassifier\u001b[49m\u001b[38;5;241;43m.\u001b[39;49m\u001b[43mpredict\u001b[49m\u001b[43m(\u001b[49m\u001b[43mclApp\u001b[49m\u001b[38;5;241;43m.\u001b[39;49m\u001b[43mtoreveal\u001b[49m\u001b[43m)\u001b[49m\n",
      "File \u001b[1;32mc:\\users\\08you\\desktop\\my own 3 hour project\\securing-medical-data-transfer-using-deep-steganography-and-cryptography-mlflow-dvc\\src\\cnnClassifier\\pipeline\\reveal_prediction.py:19\u001b[0m, in \u001b[0;36mRevealPredictionPipeline.predict\u001b[1;34m(self, filename)\u001b[0m\n\u001b[0;32m     14\u001b[0m reveal\u001b[38;5;241m=\u001b[39m tf\u001b[38;5;241m.\u001b[39mkeras\u001b[38;5;241m.\u001b[39mmodels\u001b[38;5;241m.\u001b[39mload_model(\n\u001b[0;32m     15\u001b[0m     \u001b[38;5;124m\"\u001b[39m\u001b[38;5;124martifacts/split_model/reveal.h5\u001b[39m\u001b[38;5;124m\"\u001b[39m,custom_objects\u001b[38;5;241m=\u001b[39m{\u001b[38;5;124m'\u001b[39m\u001b[38;5;124mcustom_loss_2\u001b[39m\u001b[38;5;124m'\u001b[39m: custom_loss_2,\u001b[38;5;124m'\u001b[39m\u001b[38;5;124mcustom_loss_1\u001b[39m\u001b[38;5;124m'\u001b[39m: custom_loss_1}\n\u001b[0;32m     16\u001b[0m     , \u001b[38;5;28mcompile\u001b[39m\u001b[38;5;241m=\u001b[39m\u001b[38;5;28;01mFalse\u001b[39;00m\n\u001b[0;32m     17\u001b[0m )\n\u001b[0;32m     18\u001b[0m coverout \u001b[38;5;241m=\u001b[39m image\u001b[38;5;241m.\u001b[39mload_img(filename, target_size \u001b[38;5;241m=\u001b[39m (\u001b[38;5;241m224\u001b[39m,\u001b[38;5;241m224\u001b[39m))\n\u001b[1;32m---> 19\u001b[0m \u001b[38;5;28;01mif\u001b[39;00m \u001b[43mcoverout\u001b[49m\u001b[38;5;241;43m.\u001b[39;49m\u001b[43mshape\u001b[49m[\u001b[38;5;241m-\u001b[39m\u001b[38;5;241m1\u001b[39m] \u001b[38;5;241m!=\u001b[39m \u001b[38;5;241m3\u001b[39m:\n\u001b[0;32m     20\u001b[0m     coverout \u001b[38;5;241m=\u001b[39m gray_to_rgb(coverout)\n\u001b[0;32m     21\u001b[0m secretout\u001b[38;5;241m=\u001b[39mreveal\u001b[38;5;241m.\u001b[39mpredict(coverout)\n",
      "\u001b[1;31mAttributeError\u001b[0m: 'JpegImageFile' object has no attribute 'shape'"
     ]
    }
   ],
   "source": [
    "clApp.revealclassifier.predict(clApp.toreveal)"
   ]
  },
  {
   "cell_type": "code",
   "execution_count": 12,
   "metadata": {},
   "outputs": [],
   "source": [
    "from tensorflow.keras.preprocessing import image\n",
    "\n",
    "img =image.load_img(clApp.toreveal, target_size = (224,224))"
   ]
  },
  {
   "cell_type": "code",
   "execution_count": 18,
   "metadata": {},
   "outputs": [
    {
     "name": "stdout",
     "output_type": "stream",
     "text": [
      "1/1 [==============================] - 1s 1s/step\n"
     ]
    }
   ],
   "source": [
    "import numpy as np \n",
    "from tensorflow.keras.models import load_model\n",
    "from tensorflow.keras.preprocessing import image\n",
    "from cnnClassifier.utils.common import custom_loss_1,custom_loss_2,gray_to_rgb,normalize_batch,denormalize_batch\n",
    "import os\n",
    "import tensorflow  as tf\n",
    "reveal= tf.keras.models.load_model(\n",
    "    \"artifacts/split_model/reveal.h5\",custom_objects={'custom_loss_2': custom_loss_2,'custom_loss_1': custom_loss_1}\n",
    "    , compile=False\n",
    ")\n",
    "if len(img.split()) != 3:\n",
    "    img = gray_to_rgb(img)\n",
    "secretout=reveal.predict(np.reshape(img,(1,224,224,3)))"
   ]
  },
  {
   "cell_type": "code",
   "execution_count": null,
   "metadata": {},
   "outputs": [],
   "source": []
  }
 ],
 "metadata": {
  "kernelspec": {
   "display_name": "kidney",
   "language": "python",
   "name": "python3"
  },
  "language_info": {
   "codemirror_mode": {
    "name": "ipython",
    "version": 3
   },
   "file_extension": ".py",
   "mimetype": "text/x-python",
   "name": "python",
   "nbconvert_exporter": "python",
   "pygments_lexer": "ipython3",
   "version": "3.8.18"
  }
 },
 "nbformat": 4,
 "nbformat_minor": 2
}
